{
  "nbformat": 4,
  "nbformat_minor": 0,
  "metadata": {
    "colab": {
      "provenance": []
    },
    "kernelspec": {
      "name": "python3",
      "display_name": "Python 3"
    },
    "language_info": {
      "name": "python"
    }
  },
  "cells": [
    {
      "cell_type": "markdown",
      "source": [
        "#Temporal Difference Q-Learning\n",
        "เรื่องนี้ค่อนข้างมีรายละเอียดทางคณิตศาสตร์พอสมควร สามารถเข้าไปฟังได้ที่ https://www.youtube.com/watch?v=vDDucTB6mig"
      ],
      "metadata": {
        "id": "eCku64cIZJZg"
      }
    },
    {
      "cell_type": "markdown",
      "source": [
        "ลง lib ที่จำเป็นต่าง ๆ ก่อน"
      ],
      "metadata": {
        "id": "to3ACwFmXvZs"
      }
    },
    {
      "cell_type": "code",
      "source": [
        "!pip install gymnasium"
      ],
      "metadata": {
        "colab": {
          "base_uri": "https://localhost:8080/"
        },
        "id": "xhFnRAHMWchK",
        "outputId": "982a826e-b73d-4181-d16a-571a05244f1d"
      },
      "execution_count": null,
      "outputs": [
        {
          "output_type": "stream",
          "name": "stdout",
          "text": [
            "Collecting gymnasium\n",
            "  Downloading gymnasium-0.29.1-py3-none-any.whl (953 kB)\n",
            "\u001b[?25l     \u001b[90m━━━━━━━━━━━━━━━━━━━━━━━━━━━━━━━━━━━━━━━━\u001b[0m \u001b[32m0.0/953.9 kB\u001b[0m \u001b[31m?\u001b[0m eta \u001b[36m-:--:--\u001b[0m\r\u001b[2K     \u001b[91m━━━\u001b[0m\u001b[91m╸\u001b[0m\u001b[90m━━━━━━━━━━━━━━━━━━━━━━━━━━━━━━━━━━━━\u001b[0m \u001b[32m92.2/953.9 kB\u001b[0m \u001b[31m2.6 MB/s\u001b[0m eta \u001b[36m0:00:01\u001b[0m\r\u001b[2K     \u001b[91m━━━━━━━━━━━━━━━━━━━━━━━━━━━━━━━━━━━━\u001b[0m\u001b[91m╸\u001b[0m\u001b[90m━━━\u001b[0m \u001b[32m880.6/953.9 kB\u001b[0m \u001b[31m12.9 MB/s\u001b[0m eta \u001b[36m0:00:01\u001b[0m\r\u001b[2K     \u001b[90m━━━━━━━━━━━━━━━━━━━━━━━━━━━━━━━━━━━━━━━━\u001b[0m \u001b[32m953.9/953.9 kB\u001b[0m \u001b[31m11.3 MB/s\u001b[0m eta \u001b[36m0:00:00\u001b[0m\n",
            "\u001b[?25hRequirement already satisfied: numpy>=1.21.0 in /usr/local/lib/python3.10/dist-packages (from gymnasium) (1.23.5)\n",
            "Requirement already satisfied: cloudpickle>=1.2.0 in /usr/local/lib/python3.10/dist-packages (from gymnasium) (2.2.1)\n",
            "Requirement already satisfied: typing-extensions>=4.3.0 in /usr/local/lib/python3.10/dist-packages (from gymnasium) (4.9.0)\n",
            "Collecting farama-notifications>=0.0.1 (from gymnasium)\n",
            "  Downloading Farama_Notifications-0.0.4-py3-none-any.whl (2.5 kB)\n",
            "Installing collected packages: farama-notifications, gymnasium\n",
            "Successfully installed farama-notifications-0.0.4 gymnasium-0.29.1\n"
          ]
        }
      ]
    },
    {
      "cell_type": "code",
      "source": [
        "import gymnasium as gym\n",
        "import numpy as np\n",
        "import time\n",
        "import random\n",
        "import json\n",
        "from tqdm import tqdm"
      ],
      "metadata": {
        "id": "aqmL_7yjgQOb"
      },
      "execution_count": null,
      "outputs": []
    },
    {
      "cell_type": "markdown",
      "source": [
        "ประกาศ environment หรือเกมจาก gymnasium โดยเกมที่เราเลือกคือ Frozen Lake ที่มีเป้าหมายว่าจะต้องไปเหยียบเส้นชัยโดยไม่ตกธารน้ำแข็ง"
      ],
      "metadata": {
        "id": "zflSU7KFX1C1"
      }
    },
    {
      "cell_type": "code",
      "source": [
        "#create the environment and customize the map\n",
        "map = [\"SFFF\",\n",
        "       \"FHFH\",\n",
        "       \"FFFH\",\n",
        "       \"HFFG\"]\n",
        "map_np = np.array(list(\"\".join(map)))\n",
        "env = gym.make(\"FrozenLake-v1\", desc=map, is_slippery=False)"
      ],
      "metadata": {
        "id": "ifnFuJms3M6W"
      },
      "execution_count": null,
      "outputs": []
    },
    {
      "cell_type": "markdown",
      "source": [
        "กำหนดค่าตั้งต้นของ Q Table หรือก็คือโพยข้อสอบที่จะให้ AI เรียนรู้ จนสามารถเล่นเกมให้ผ่านได้"
      ],
      "metadata": {
        "id": "-C5ovU3CYVkk"
      }
    },
    {
      "cell_type": "code",
      "source": [
        "#initialize q table\n",
        "Q_table = np.random.uniform(-5, 5, (16,4))\n",
        "Q_table[(map_np == 'H') | (map_np == 'G')] = 0\n",
        "print('Value table:\\n', Q_table)\n",
        "\n",
        "#reward shaping\n",
        "reward_mapping = {'S': -1, 'F': -1, 'H': -5, 'G': 10}\n",
        "R_table = np.vectorize(reward_mapping.get, otypes=[float])(map_np)\n",
        "print('Reward table:\\n' ,R_table.reshape(4,4))"
      ],
      "metadata": {
        "colab": {
          "base_uri": "https://localhost:8080/"
        },
        "id": "Ia-Ss-K8gSMd",
        "outputId": "6059eb53-60f9-48a2-a6a6-95148cb786cf"
      },
      "execution_count": null,
      "outputs": [
        {
          "output_type": "stream",
          "name": "stdout",
          "text": [
            "Value table:\n",
            " [[ 4.89249847  1.63801104  4.76583981 -3.53457715]\n",
            " [ 0.24780139  3.76887084 -4.49071354 -0.25802194]\n",
            " [ 4.50221641 -1.91132683  3.12977145  3.93414663]\n",
            " [-4.20230839 -2.58986839  4.77014024  3.64095288]\n",
            " [ 2.76477298  0.07151443 -4.8503271   4.67631422]\n",
            " [ 0.          0.          0.          0.        ]\n",
            " [-4.32852257  2.02717245 -4.02412365  1.61808459]\n",
            " [ 0.          0.          0.          0.        ]\n",
            " [-2.70535604  3.01955321  1.83616136 -3.29057235]\n",
            " [ 4.12536482  3.72276534 -2.24501529  1.0165261 ]\n",
            " [ 3.75443204 -1.18763345  3.54448611 -1.88797476]\n",
            " [ 0.          0.          0.          0.        ]\n",
            " [ 0.          0.          0.          0.        ]\n",
            " [-4.62137676  0.80315413  0.08267772  3.42096842]\n",
            " [ 1.60012748  3.20046163 -0.13002439 -0.63457967]\n",
            " [ 0.          0.          0.          0.        ]]\n",
            "Reward table:\n",
            " [[-1. -1. -1. -1.]\n",
            " [-1. -5. -1. -5.]\n",
            " [-1. -1. -1. -5.]\n",
            " [-5. -1. -1. 10.]]\n"
          ]
        }
      ]
    },
    {
      "cell_type": "markdown",
      "source": [
        "ส่วนต่อไปจะเป็นการเรียนรู้ ซึ่งจะเป็นการลองผิดลองถูก จน AI สามารถเดินไปหาเส้นชัยได้"
      ],
      "metadata": {
        "id": "WX7Ham_TYrev"
      }
    },
    {
      "cell_type": "code",
      "source": [
        "#set up hyperparameters\n",
        "alpha = 0.9 #aka learning rate\n",
        "gamma = 0.9 #discount factor\n",
        "epoch = 1100\n",
        "epsilon = 1\n",
        "epsilon_decay_rate = 1e-3\n",
        "\n",
        "#learning session\n",
        "for i in tqdm(range(epoch), desc=\"Processing\", unit=\"iteration\"):\n",
        "  state_0, info = env.reset()\n",
        "  roll = np.random.default_rng()\n",
        "  while True:\n",
        "    action = env.action_space.sample() if roll.random() < epsilon else np.argmax(Q_table[state_0])\n",
        "\n",
        "    state_1, _, terminated, truncated, info = env.step(action)\n",
        "    reward = R_table[state_1]\n",
        "\n",
        "    #update q table\n",
        "    TD = reward + (gamma*np.max(Q_table[state_1])) - Q_table[state_0][action]\n",
        "    Q_table[state_0][action] += alpha*TD\n",
        "\n",
        "    state_0 = state_1\n",
        "\n",
        "    if terminated or truncated:\n",
        "      break\n",
        "\n",
        "  epsilon = max(epsilon - epsilon_decay_rate, 0)\n",
        "  if epsilon == 0:\n",
        "    alpha = 0.0001\n",
        "\n",
        "print('\\n', Q_table)\n",
        "with open('q_table.json', 'w') as json_file:\n",
        "    json.dump(Q_table.tolist(), json_file)"
      ],
      "metadata": {
        "colab": {
          "base_uri": "https://localhost:8080/"
        },
        "id": "q9bhFT-LrcRt",
        "outputId": "9e34f0fc-d2a6-4522-fad8-a736753cfc84"
      },
      "execution_count": null,
      "outputs": [
        {
          "output_type": "stream",
          "name": "stderr",
          "text": [
            "Processing: 100%|██████████| 1100/1100 [00:00<00:00, 3231.68iteration/s]"
          ]
        },
        {
          "output_type": "stream",
          "name": "stdout",
          "text": [
            "\n",
            " [[ 0.62882     1.8098      1.8098      0.62882   ]\n",
            " [ 0.62882    -5.          3.122       1.8098    ]\n",
            " [ 1.8098      4.58        1.8098      3.122     ]\n",
            " [ 3.122      -5.          1.80979722  1.8098    ]\n",
            " [ 1.8098      3.122      -5.          0.62882   ]\n",
            " [ 0.          0.          0.          0.        ]\n",
            " [-5.          6.2        -5.          3.122     ]\n",
            " [ 0.          0.          0.          0.        ]\n",
            " [ 3.122      -5.          4.58        1.8098    ]\n",
            " [ 3.122       6.2         6.2        -5.        ]\n",
            " [ 4.58        8.         -5.          4.58      ]\n",
            " [ 0.          0.          0.          0.        ]\n",
            " [ 0.          0.          0.          0.        ]\n",
            " [-5.          6.2         8.          4.58      ]\n",
            " [ 6.2         8.         10.          6.2       ]\n",
            " [ 0.          0.          0.          0.        ]]\n"
          ]
        },
        {
          "output_type": "stream",
          "name": "stderr",
          "text": [
            "\n"
          ]
        }
      ]
    },
    {
      "cell_type": "markdown",
      "source": [
        "ผลลัพธ์ของการฝึก โดยมีเป้าหมายว่าจะต้องไปตกในช่องที่ 15 (เส้นชัย) ให้ได้"
      ],
      "metadata": {
        "id": "T8Hc1PXpYhoG"
      }
    },
    {
      "cell_type": "code",
      "source": [
        "state, info = env.reset()\n",
        "print(state)\n",
        "\n",
        "while True:\n",
        "  action = np.argmax(Q_table[state])\n",
        "  state, _, terminated, truncated, info = env.step(action)\n",
        "  time.sleep(0.1)\n",
        "  print(state)\n",
        "\n",
        "  if terminated or truncated:\n",
        "    break\n",
        "\n",
        "env.close()"
      ],
      "metadata": {
        "colab": {
          "base_uri": "https://localhost:8080/"
        },
        "id": "naaMUAFn9VHG",
        "outputId": "ddf7dcb6-b83a-4891-fa38-39e5ff8bba57"
      },
      "execution_count": null,
      "outputs": [
        {
          "output_type": "stream",
          "name": "stdout",
          "text": [
            "0\n",
            "4\n",
            "8\n",
            "9\n",
            "13\n",
            "14\n",
            "15\n"
          ]
        }
      ]
    },
    {
      "cell_type": "markdown",
      "source": [
        "ซึ่งจะเห็นว่าท้ายที่สุด ตัว AI สามารถพาตัวมันเองจนรอดไปหาเส้นชัยหรือช่อง 15 ได้"
      ],
      "metadata": {
        "id": "XnoVDVzZeib1"
      }
    }
  ]
}